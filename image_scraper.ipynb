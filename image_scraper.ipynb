{
 "cells": [
  {
   "cell_type": "markdown",
   "metadata": {},
   "source": [
    "## Let's get those images!"
   ]
  },
  {
   "cell_type": "code",
   "execution_count": null,
   "metadata": {},
   "outputs": [],
   "source": [
    "from selenium import webdriver\n",
    "from selenium.webdriver.common.by import By\n",
    "from selenium.webdriver.support.ui import WebDriverWait\n",
    "from selenium.webdriver.support import expected_conditions as EC\n",
    "from selenium.webdriver.common.keys import Keys\n",
    "from pyvirtualdisplay import Display\n",
    "import multiprocessing as mp\n",
    "import time\n",
    "import os"
   ]
  },
  {
   "cell_type": "code",
   "execution_count": null,
   "metadata": {},
   "outputs": [],
   "source": [
    "#scraping images.google.com for images\n",
    "def scrape(item_name):\n",
    "    display = Display(visible=0, size=(800, 600)) #So that browser doesn't explicitly open. \n",
    "    display.start()\n",
    "    browser = webdriver.Firefox(executable_path='<path to geckodriver>')\n",
    "    browser.get('http://www.images.google.com')\n",
    "    search = browser.find_element_by_name('q')\n",
    "    search.send_keys(item_name)\n",
    "    search.send_keys(Keys.RETURN) # hit return after you enter search text\n",
    "    time.sleep(15)\n",
    "    temp = browser.find_elements_by_tag_name('img')\n",
    "    src = \"\"\n",
    "    if not os.path.isdir(item_name):\n",
    "        os.mkdir(item_name)\n",
    "    for i,element in enumerate(temp):\n",
    "        if i > 3: #first three images tend to be icons\n",
    "            try:\n",
    "                src = element.get_attribute('src')\n",
    "                os.system('wget ' + src + ' -P ' + item_name)\n",
    "            except: \n",
    "                pass\n",
    "    time.sleep(10)        \n",
    "    browser.quit()\n",
    "    display.stop()"
   ]
  },
  {
   "cell_type": "code",
   "execution_count": null,
   "metadata": {},
   "outputs": [],
   "source": [
    "#Create list of items to scraped\n",
    "list_of_item_types = []"
   ]
  },
  {
   "cell_type": "code",
   "execution_count": null,
   "metadata": {},
   "outputs": [],
   "source": [
    "print (\"Number of items:\", len(list_of_item_types))\n",
    "print(\"Number of unique items:\", len(set(list_of_item_types)))"
   ]
  },
  {
   "cell_type": "code",
   "execution_count": null,
   "metadata": {},
   "outputs": [],
   "source": [
    "#Creating multiple processes to speed up the process\n",
    "pool = mp.Pool(mp.cpu_count())\n",
    "pool.map(scrape, list_of_item_types)"
   ]
  },
  {
   "cell_type": "code",
   "execution_count": null,
   "metadata": {},
   "outputs": [],
   "source": []
  }
 ],
 "metadata": {
  "kernelspec": {
   "display_name": "ml",
   "language": "python",
   "name": "ml_kernel"
  },
  "language_info": {
   "codemirror_mode": {
    "name": "ipython",
    "version": 3
   },
   "file_extension": ".py",
   "mimetype": "text/x-python",
   "name": "python",
   "nbconvert_exporter": "python",
   "pygments_lexer": "ipython3",
   "version": "3.6.7"
  }
 },
 "nbformat": 4,
 "nbformat_minor": 2
}
